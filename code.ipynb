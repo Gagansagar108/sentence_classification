{
 "cells": [
  {
   "cell_type": "code",
   "execution_count": 366,
   "id": "104463ac-66c4-4672-8b95-2d9bd4580d0a",
   "metadata": {},
   "outputs": [],
   "source": [
    "import os\n",
    "import re\n",
    "import fitz\n",
    "import pandas as pd\n",
    "import numpy as np\n",
    "from sklearn import svm\n",
    "from sklearn.svm import SVC\n",
    "import matplotlib.pyplot as plt\n",
    "from sklearn.linear_model import LogisticRegression \n",
    "from sklearn.ensemble import RandomForestClassifier\n",
    "from sklearn.neighbors import KNeighborsClassifier\n",
    "from sklearn.naive_bayes import GaussianNB\n",
    "from sklearn.tree import DecisionTreeClassifier\n",
    "from sklearn.feature_extraction.text import CountVectorizer\n",
    "from sklearn.model_selection import train_test_split\n",
    "from sklearn.metrics import accuracy_score\n",
    "from tensorflow.keras.preprocessing.text import one_hot\n",
    "from tensorflow.keras.preprocessing.sequence import pad_sequences\n",
    "from tensorflow.keras.models import Sequential\n",
    "from tensorflow.keras.layers import Dense,Flatten,Embedding \n",
    "from tensorflow.keras import Sequential\n",
    "import seaborn as sns\n",
    "from nltk.tokenize import sent_tokenize,word_tokenize "
   ]
  },
  {
   "cell_type": "code",
   "execution_count": 530,
   "id": "4ac8b8f5-90df-4f15-92db-7c584581fa00",
   "metadata": {},
   "outputs": [],
   "source": [
    "path_h='E:\\GAGAN_ASSIGNMENT\\ASSIGNMENT\\HISTORY'\n",
    "history=''\n",
    "\n",
    "files=os.listdir(path_h)\n",
    "for file in files:\n",
    "    f_path=os.path.join(path_h,file)\n",
    "    pdf=fitz.open(f_path)\n",
    "    pages=pdf.page_count\n",
    "    for i in range(pages):\n",
    "        page_text=pdf.load_page(i)\n",
    "        text=page_text.get_text()\n",
    "        history=history+text\n",
    "        \n",
    "        \n",
    "    "
   ]
  },
  {
   "cell_type": "code",
   "execution_count": null,
   "id": "5429e9fa-af44-4909-94ec-d184cb312add",
   "metadata": {},
   "outputs": [],
   "source": []
  },
  {
   "cell_type": "code",
   "execution_count": 433,
   "id": "c435274c-ca8f-4e1d-a1dd-a2d404b2005a",
   "metadata": {},
   "outputs": [],
   "source": []
  },
  {
   "cell_type": "code",
   "execution_count": 531,
   "id": "91f0131a-8fd2-4deb-ab73-ac8cbaddb188",
   "metadata": {},
   "outputs": [],
   "source": [
    "science=' ' \n",
    "path_h='E:\\GAGAN_ASSIGNMENT\\ASSIGNMENT\\SCIENCE'\n",
    "\n",
    "files=os.listdir(path_h)\n",
    "for file in files:\n",
    "    f_path=os.path.join(path_h,file)\n",
    "    pdf=fitz.open(f_path)\n",
    "    pages=pdf.page_count\n",
    "    for i in range(pages):\n",
    "        page_text=pdf.load_page(i)\n",
    "        text=page_text.get_text()\n",
    "        science=science+text\n",
    "        \n",
    "        "
   ]
  },
  {
   "cell_type": "code",
   "execution_count": 532,
   "id": "58ab35bb-094f-469a-a1f5-f680e39b19ed",
   "metadata": {},
   "outputs": [],
   "source": [
    "def cleaned(text):\n",
    "    cleaned_text=re.sub('/(\\r\\n)+|\\r+|\\n+|\\t+/','',text)       #removes lines \n",
    "    cleaned_text=re.sub('(https?:\\/\\/)?([\\da-z\\.-]+)\\.([a-z\\.]{2,6})([\\/\\w \\.-]*)','',cleaned_text)  #removes links\n",
    "    cleaned_text=re.sub('\\d+\\.','',cleaned_text)       #removes question number\n",
    "    cleaned_text=re.sub('\\(?[a-zA-Z0-9]+?\\)','',cleaned_text)   #removes brackets \n",
    "    cleaned_text=re.sub('\\[?[a-zA-Z0-9]+?\\]','',cleaned_text)  #removes brackets \n",
    "    cleaned_text=re.sub('\\s[a-zA-Z0-9]\\s','',cleaned_text)   #removes single characters \n",
    "    return cleaned_text\n",
    "science=cleaned(science.lower())\n",
    "history=cleaned(history.lower())"
   ]
  },
  {
   "cell_type": "code",
   "execution_count": 533,
   "id": "6c0db24b-a6a2-458a-ba48-641ebd073adf",
   "metadata": {},
   "outputs": [],
   "source": [
    "\n",
    "history=sent_tokenize(history)    #sentence tokenizer\n",
    "science=sent_tokenize(science)   #sentence tokenizer\n",
    "\n",
    "h_label=['h']*len(history)     #marks lables\n",
    "s_label=['S']*len(science)"
   ]
  },
  {
   "cell_type": "code",
   "execution_count": null,
   "id": "870e36ec-c05b-4d94-9ac4-f58d056b28bc",
   "metadata": {},
   "outputs": [],
   "source": []
  },
  {
   "cell_type": "code",
   "execution_count": 534,
   "id": "b8b26d7a-ab12-4f59-a2a0-658938ad406b",
   "metadata": {},
   "outputs": [
    {
     "data": {
      "text/plain": [
       "(232, 232, 370, 370)"
      ]
     },
     "execution_count": 534,
     "metadata": {},
     "output_type": "execute_result"
    }
   ],
   "source": [
    "len(science),len(s_label),len(h_label),len(history)"
   ]
  },
  {
   "cell_type": "code",
   "execution_count": 535,
   "id": "c22c12eb-7f7c-43e0-b9a0-502f683fd732",
   "metadata": {},
   "outputs": [],
   "source": [
    "features=np.concatenate([science,history])   #features \n",
    "labels=np.concatenate([s_label,h_label])  #labels "
   ]
  },
  {
   "cell_type": "code",
   "execution_count": 536,
   "id": "e6d00a47-340e-41c8-aae0-7f1cebf835a6",
   "metadata": {},
   "outputs": [],
   "source": [
    "data=pd.DataFrame({'Question':features,'Class':labels})\n",
    "data= data.sample(frac = 1)"
   ]
  },
  {
   "cell_type": "code",
   "execution_count": 539,
   "id": "c387796c-38e1-4700-8d0f-1daa896084e2",
   "metadata": {},
   "outputs": [
    {
     "data": {
      "text/html": [
       "<div>\n",
       "<style scoped>\n",
       "    .dataframe tbody tr th:only-of-type {\n",
       "        vertical-align: middle;\n",
       "    }\n",
       "\n",
       "    .dataframe tbody tr th {\n",
       "        vertical-align: top;\n",
       "    }\n",
       "\n",
       "    .dataframe thead th {\n",
       "        text-align: right;\n",
       "    }\n",
       "</style>\n",
       "<table border=\"1\" class=\"dataframe\">\n",
       "  <thead>\n",
       "    <tr style=\"text-align: right;\">\n",
       "      <th></th>\n",
       "      <th>Question</th>\n",
       "      <th>Class</th>\n",
       "    </tr>\n",
       "  </thead>\n",
       "  <tbody>\n",
       "    <tr>\n",
       "      <th>209</th>\n",
       "      <td>discuss the initiatives that can propel resear...</td>\n",
       "      <td>S</td>\n",
       "    </tr>\n",
       "    <tr>\n",
       "      <th>389</th>\n",
       "      <td>it is associated with which of the following p...</td>\n",
       "      <td>h</td>\n",
       "    </tr>\n",
       "    <tr>\n",
       "      <th>69</th>\n",
       "      <td>candidates can download the notes on the topic...</td>\n",
       "      <td>S</td>\n",
       "    </tr>\n",
       "    <tr>\n",
       "      <th>560</th>\n",
       "      <td>tula  bali  niskha  rupiyashow answershow answ...</td>\n",
       "      <td>h</td>\n",
       "    </tr>\n",
       "    <tr>\n",
       "      <th>360</th>\n",
       "      <td>they are famous for their dance which is an in...</td>\n",
       "      <td>h</td>\n",
       "    </tr>\n",
       "  </tbody>\n",
       "</table>\n",
       "</div>"
      ],
      "text/plain": [
       "                                              Question Class\n",
       "209  discuss the initiatives that can propel resear...     S\n",
       "389  it is associated with which of the following p...     h\n",
       "69   candidates can download the notes on the topic...     S\n",
       "560  tula  bali  niskha  rupiyashow answershow answ...     h\n",
       "360  they are famous for their dance which is an in...     h"
      ]
     },
     "execution_count": 539,
     "metadata": {},
     "output_type": "execute_result"
    }
   ],
   "source": [
    "data.head()"
   ]
  },
  {
   "cell_type": "code",
   "execution_count": 538,
   "id": "460301b2-431c-45b1-8291-71ee9149d43d",
   "metadata": {},
   "outputs": [
    {
     "data": {
      "text/html": [
       "<div>\n",
       "<style scoped>\n",
       "    .dataframe tbody tr th:only-of-type {\n",
       "        vertical-align: middle;\n",
       "    }\n",
       "\n",
       "    .dataframe tbody tr th {\n",
       "        vertical-align: top;\n",
       "    }\n",
       "\n",
       "    .dataframe thead th {\n",
       "        text-align: right;\n",
       "    }\n",
       "</style>\n",
       "<table border=\"1\" class=\"dataframe\">\n",
       "  <thead>\n",
       "    <tr style=\"text-align: right;\">\n",
       "      <th></th>\n",
       "      <th>Question</th>\n",
       "      <th>Class</th>\n",
       "    </tr>\n",
       "  </thead>\n",
       "  <tbody>\n",
       "    <tr>\n",
       "      <th>297</th>\n",
       "      <td>andonly only  all the above only   which of th...</td>\n",
       "      <td>h</td>\n",
       "    </tr>\n",
       "    <tr>\n",
       "      <th>62</th>\n",
       "      <td>location identification ofperson  sleep monito...</td>\n",
       "      <td>S</td>\n",
       "    </tr>\n",
       "    <tr>\n",
       "      <th>11</th>\n",
       "      <td>carbon nanotubes are biodegradable.</td>\n",
       "      <td>S</td>\n",
       "    </tr>\n",
       "    <tr>\n",
       "      <th>568</th>\n",
       "      <td>fruits tax  liquor tax  emergency tax sales ta...</td>\n",
       "      <td>h</td>\n",
       "    </tr>\n",
       "    <tr>\n",
       "      <th>580</th>\n",
       "      <td>they issuedlarge number of silver coins called...</td>\n",
       "      <td>h</td>\n",
       "    </tr>\n",
       "    <tr>\n",
       "      <th>452</th>\n",
       "      <td>no regular army was maintained.</td>\n",
       "      <td>h</td>\n",
       "    </tr>\n",
       "    <tr>\n",
       "      <th>110</th>\n",
       "      <td>roll-up displays embedded in clothing can be m...</td>\n",
       "      <td>S</td>\n",
       "    </tr>\n",
       "    <tr>\n",
       "      <th>475</th>\n",
       "      <td>early jaina literature was written in sanskrit.</td>\n",
       "      <td>h</td>\n",
       "    </tr>\n",
       "  </tbody>\n",
       "</table>\n",
       "</div>"
      ],
      "text/plain": [
       "                                              Question Class\n",
       "297  andonly only  all the above only   which of th...     h\n",
       "62   location identification ofperson  sleep monito...     S\n",
       "11                 carbon nanotubes are biodegradable.     S\n",
       "568  fruits tax  liquor tax  emergency tax sales ta...     h\n",
       "580  they issuedlarge number of silver coins called...     h\n",
       "452                    no regular army was maintained.     h\n",
       "110  roll-up displays embedded in clothing can be m...     S\n",
       "475    early jaina literature was written in sanskrit.     h"
      ]
     },
     "execution_count": 538,
     "metadata": {},
     "output_type": "execute_result"
    }
   ],
   "source": [
    "data.iloc[10:18,]"
   ]
  },
  {
   "cell_type": "code",
   "execution_count": 540,
   "id": "7607b6e1-3442-47e3-80dc-3940616aca36",
   "metadata": {},
   "outputs": [
    {
     "data": {
      "text/plain": [
       "array([0, 1, 0, 1, 1, 1, 1, 1, 1, 0], dtype=int8)"
      ]
     },
     "execution_count": 540,
     "metadata": {},
     "output_type": "execute_result"
    }
   ],
   "source": [
    "y=data['Class'].astype('category').cat.codes.values            #convers classes into codes \n",
    "y[:10]"
   ]
  },
  {
   "cell_type": "code",
   "execution_count": 541,
   "id": "2a833dbe-f297-4169-bc6f-c67b53f4410e",
   "metadata": {},
   "outputs": [
    {
     "data": {
      "text/plain": [
       "160"
      ]
     },
     "execution_count": 541,
     "metadata": {},
     "output_type": "execute_result"
    }
   ],
   "source": [
    "maxlen=max(list(map(lambda x : len(x.split(' ')),features)))    #max word in a sentence it will \n",
    "maxlen"
   ]
  },
  {
   "cell_type": "markdown",
   "id": "7c2085a6-743a-477a-beaa-bfdaf2cfd2a8",
   "metadata": {},
   "source": [
    "Method1 :word embedding with keras embedded layer"
   ]
  },
  {
   "cell_type": "code",
   "execution_count": 542,
   "id": "7eff7750-4805-4bb6-82b2-6062fe42c046",
   "metadata": {},
   "outputs": [
    {
     "name": "stdout",
     "output_type": "stream",
     "text": [
      "(602, 160)\n"
     ]
    },
    {
     "data": {
      "text/plain": [
       "array([[ 14, 381, 437, ...,   0,   0,   0],\n",
       "       [ 93, 552, 415, ...,   0,   0,   0],\n",
       "       [292, 289, 316, ...,   0,   0,   0],\n",
       "       ...,\n",
       "       [ 59, 231, 580, ...,   0,   0,   0],\n",
       "       [381, 398, 345, ...,   0,   0,   0],\n",
       "       [553, 552, 123, ...,   0,   0,   0]])"
      ]
     },
     "execution_count": 542,
     "metadata": {},
     "output_type": "execute_result"
    }
   ],
   "source": [
    "encoded= [ one_hot(x,600) for x in data['Question']]\n",
    "vectors_features=pad_sequences(encoded,maxlen=maxlen,padding='post')\n",
    "print(vectors_features.shape)\n",
    "vectors_features"
   ]
  },
  {
   "cell_type": "code",
   "execution_count": 543,
   "id": "41f4a3da-929e-44f4-819b-88e4d25292f5",
   "metadata": {},
   "outputs": [
    {
     "data": {
      "text/plain": [
       "((481, 160), (481,), (121, 160), (121,))"
      ]
     },
     "execution_count": 543,
     "metadata": {},
     "output_type": "execute_result"
    }
   ],
   "source": [
    "X_train ,X_test,y_train,y_test=train_test_split(vectors_features,y,test_size=0.2,random_state=200)     \n",
    "X_train.shape,y_train.shape,X_test.shape,y_test.shape"
   ]
  },
  {
   "cell_type": "markdown",
   "id": "96f1ab4c-4c5e-406a-8355-4b5361d7b77d",
   "metadata": {},
   "source": [
    "implementing the models  "
   ]
  },
  {
   "cell_type": "code",
   "execution_count": 544,
   "id": "4049085e-6d39-43d5-a007-6ae40decd6a6",
   "metadata": {},
   "outputs": [],
   "source": [
    "vocab_size=600\n",
    "embeded_vector_size=100\n",
    "model_cnn=Sequential()                \n",
    "model_cnn.add(Embedding(vocab_size,embeded_vector_size,input_length=maxlen))\n",
    "model_cnn.add(Flatten())\n",
    "model_cnn.add(Dense(128,activation='relu'))\n",
    "model_cnn.add(Dense(32,activation='relu'))\n",
    "model_cnn.add(Dense(1,activation='sigmoid'))"
   ]
  },
  {
   "cell_type": "code",
   "execution_count": 545,
   "id": "61a36455-6de2-4e46-ae6e-e16158a6ae61",
   "metadata": {},
   "outputs": [
    {
     "name": "stdout",
     "output_type": "stream",
     "text": [
      "Train on 481 samples\n",
      "Epoch 1/50\n",
      "481/481 [==============================] - 1s 3ms/sample - loss: 0.7229 - accuracy: 0.5904\n",
      "Epoch 2/50\n",
      "481/481 [==============================] - 1s 1ms/sample - loss: 0.6636 - accuracy: 0.6216\n",
      "Epoch 3/50\n",
      "481/481 [==============================] - 1s 1ms/sample - loss: 0.6591 - accuracy: 0.5780\n",
      "Epoch 4/50\n",
      "481/481 [==============================] - 1s 1ms/sample - loss: 0.5365 - accuracy: 0.7609\n",
      "Epoch 5/50\n",
      "481/481 [==============================] - 1s 1ms/sample - loss: 0.3804 - accuracy: 0.8773\n",
      "Epoch 6/50\n",
      "481/481 [==============================] - 1s 1ms/sample - loss: 0.2128 - accuracy: 0.9480\n",
      "Epoch 7/50\n",
      "481/481 [==============================] - 1s 1ms/sample - loss: 0.1143 - accuracy: 0.9688\n",
      "Epoch 8/50\n",
      "481/481 [==============================] - 1s 1ms/sample - loss: 0.0693 - accuracy: 0.9751\n",
      "Epoch 9/50\n",
      "481/481 [==============================] - 1s 1ms/sample - loss: 0.0599 - accuracy: 0.9771\n",
      "Epoch 10/50\n",
      "481/481 [==============================] - 1s 1ms/sample - loss: 0.0457 - accuracy: 0.9854\n",
      "Epoch 11/50\n",
      "481/481 [==============================] - 1s 1ms/sample - loss: 0.0415 - accuracy: 0.9813\n",
      "Epoch 12/50\n",
      "481/481 [==============================] - 1s 1ms/sample - loss: 0.0358 - accuracy: 0.9813\n",
      "Epoch 13/50\n",
      "481/481 [==============================] - 1s 1ms/sample - loss: 0.0427 - accuracy: 0.9771\n",
      "Epoch 14/50\n",
      "481/481 [==============================] - 1s 1ms/sample - loss: 0.0426 - accuracy: 0.9854\n",
      "Epoch 15/50\n",
      "481/481 [==============================] - 1s 1ms/sample - loss: 0.0421 - accuracy: 0.9813\n",
      "Epoch 16/50\n",
      "481/481 [==============================] - 1s 1ms/sample - loss: 0.0368 - accuracy: 0.9854\n",
      "Epoch 17/50\n",
      "481/481 [==============================] - ETA: 0s - loss: 0.0387 - accuracy: 0.97 - 1s 1ms/sample - loss: 0.0367 - accuracy: 0.9813\n",
      "Epoch 18/50\n",
      "481/481 [==============================] - 1s 1ms/sample - loss: 0.0381 - accuracy: 0.9834\n",
      "Epoch 19/50\n",
      "481/481 [==============================] - 1s 1ms/sample - loss: 0.0397 - accuracy: 0.9875\n",
      "Epoch 20/50\n",
      "481/481 [==============================] - 1s 1ms/sample - loss: 0.0399 - accuracy: 0.9813\n",
      "Epoch 21/50\n",
      "481/481 [==============================] - 1s 1ms/sample - loss: 0.0404 - accuracy: 0.9854\n",
      "Epoch 22/50\n",
      "481/481 [==============================] - 1s 1ms/sample - loss: 0.0329 - accuracy: 0.9792\n",
      "Epoch 23/50\n",
      "481/481 [==============================] - 1s 1ms/sample - loss: 0.0331 - accuracy: 0.9854\n",
      "Epoch 24/50\n",
      "481/481 [==============================] - 1s 1ms/sample - loss: 0.0301 - accuracy: 0.9771\n",
      "Epoch 25/50\n",
      "481/481 [==============================] - 1s 1ms/sample - loss: 0.0356 - accuracy: 0.9792\n",
      "Epoch 26/50\n",
      "481/481 [==============================] - 1s 1ms/sample - loss: 0.0323 - accuracy: 0.9854\n",
      "Epoch 27/50\n",
      "481/481 [==============================] - 1s 1ms/sample - loss: 0.0348 - accuracy: 0.9792\n",
      "Epoch 28/50\n",
      "481/481 [==============================] - 1s 1ms/sample - loss: 0.0380 - accuracy: 0.9771\n",
      "Epoch 29/50\n",
      "481/481 [==============================] - 1s 1ms/sample - loss: 0.0336 - accuracy: 0.9854\n",
      "Epoch 30/50\n",
      "481/481 [==============================] - 1s 1ms/sample - loss: 0.0311 - accuracy: 0.9834\n",
      "Epoch 31/50\n",
      "481/481 [==============================] - 1s 1ms/sample - loss: 0.0322 - accuracy: 0.9854\n",
      "Epoch 32/50\n",
      "481/481 [==============================] - 1s 1ms/sample - loss: 0.0399 - accuracy: 0.9792\n",
      "Epoch 33/50\n",
      "481/481 [==============================] - 1s 1ms/sample - loss: 0.0387 - accuracy: 0.9854\n",
      "Epoch 34/50\n",
      "481/481 [==============================] - 1s 1ms/sample - loss: 0.0353 - accuracy: 0.9771\n",
      "Epoch 35/50\n",
      "481/481 [==============================] - 1s 1ms/sample - loss: 0.0314 - accuracy: 0.9854\n",
      "Epoch 36/50\n",
      "481/481 [==============================] - 1s 1ms/sample - loss: 0.0348 - accuracy: 0.9792\n",
      "Epoch 37/50\n",
      "481/481 [==============================] - 0s 1ms/sample - loss: 0.0321 - accuracy: 0.9751\n",
      "Epoch 38/50\n",
      "481/481 [==============================] - 1s 1ms/sample - loss: 0.0379 - accuracy: 0.9854\n",
      "Epoch 39/50\n",
      "481/481 [==============================] - 1s 1ms/sample - loss: 0.0347 - accuracy: 0.9792\n",
      "Epoch 40/50\n",
      "481/481 [==============================] - 1s 1ms/sample - loss: 0.0308 - accuracy: 0.9854\n",
      "Epoch 41/50\n",
      "481/481 [==============================] - 1s 1ms/sample - loss: 0.0363 - accuracy: 0.9771\n",
      "Epoch 42/50\n",
      "481/481 [==============================] - 1s 1ms/sample - loss: 0.0311 - accuracy: 0.9813\n",
      "Epoch 43/50\n",
      "481/481 [==============================] - 1s 1ms/sample - loss: 0.0295 - accuracy: 0.9854\n",
      "Epoch 44/50\n",
      "481/481 [==============================] - 1s 1ms/sample - loss: 0.0319 - accuracy: 0.9834\n",
      "Epoch 45/50\n",
      "481/481 [==============================] - 1s 1ms/sample - loss: 0.0286 - accuracy: 0.9834\n",
      "Epoch 46/50\n",
      "481/481 [==============================] - 1s 1ms/sample - loss: 0.1014 - accuracy: 0.97300s - loss: 0.1503 - accu\n",
      "Epoch 47/50\n",
      "481/481 [==============================] - 1s 1ms/sample - loss: 0.0549 - accuracy: 0.9792\n",
      "Epoch 48/50\n",
      "481/481 [==============================] - 1s 1ms/sample - loss: 0.0454 - accuracy: 0.9834\n",
      "Epoch 49/50\n",
      "481/481 [==============================] - 1s 2ms/sample - loss: 0.0430 - accuracy: 0.9854\n",
      "Epoch 50/50\n",
      "481/481 [==============================] - 1s 2ms/sample - loss: 0.0360 - accuracy: 0.9771\n"
     ]
    },
    {
     "data": {
      "text/plain": [
       "(0.5486859772816177, 0.8016529)"
      ]
     },
     "execution_count": 545,
     "metadata": {},
     "output_type": "execute_result"
    }
   ],
   "source": [
    "model_cnn.compile(optimizer='adam',loss='binary_crossentropy',metrics=['accuracy'])\n",
    "model_cnn.fit(X_train,y_train,epochs=50)\n",
    "loss,acc_cnn = model_cnn.evaluate(X_test, y_test,batch_size=32, verbose=0)\n",
    "loss,acc_cnn"
   ]
  },
  {
   "cell_type": "code",
   "execution_count": null,
   "id": "5e4c16d9-3006-4746-b25f-cf28420df2dc",
   "metadata": {},
   "outputs": [],
   "source": []
  },
  {
   "cell_type": "markdown",
   "id": "c276fa6c-8a27-41a5-9154-f737227dad0c",
   "metadata": {},
   "source": [
    "Support Vector Classifier\n"
   ]
  },
  {
   "cell_type": "code",
   "execution_count": 546,
   "id": "c74a3a91-5717-4d02-9c9e-a8471aba6df2",
   "metadata": {},
   "outputs": [
    {
     "name": "stdout",
     "output_type": "stream",
     "text": [
      "SVC: 0.6363636363636364\n"
     ]
    }
   ],
   "source": [
    "svc=SVC()              \n",
    "model_svc=svc.fit(X_train,y_train)\n",
    "pred_svc=model_svc.predict(X_test)\n",
    "acc_svc=accuracy_score(y_test,pred_svc)\n",
    "print('SVC:',acc_svc)"
   ]
  },
  {
   "cell_type": "markdown",
   "id": "cceba047-805e-4421-851f-f103b7a30739",
   "metadata": {},
   "source": [
    "Logistic Regression "
   ]
  },
  {
   "cell_type": "code",
   "execution_count": 547,
   "id": "5ef5dae3-4acf-4e5b-9fc2-85713ca33c7c",
   "metadata": {},
   "outputs": [
    {
     "name": "stdout",
     "output_type": "stream",
     "text": [
      "LogisticRegression: 0.5206611570247934\n"
     ]
    },
    {
     "name": "stderr",
     "output_type": "stream",
     "text": [
      "e:\\pythonproject\\venv\\lib\\site-packages\\sklearn\\linear_model\\_logistic.py:765: ConvergenceWarning: lbfgs failed to converge (status=1):\n",
      "STOP: TOTAL NO. of ITERATIONS REACHED LIMIT.\n",
      "\n",
      "Increase the number of iterations (max_iter) or scale the data as shown in:\n",
      "    https://scikit-learn.org/stable/modules/preprocessing.html\n",
      "Please also refer to the documentation for alternative solver options:\n",
      "    https://scikit-learn.org/stable/modules/linear_model.html#logistic-regression\n",
      "  extra_warning_msg=_LOGISTIC_SOLVER_CONVERGENCE_MSG)\n",
      "\n"
     ]
    }
   ],
   "source": [
    "Lgr=LogisticRegression()\n",
    "model_lgr=Lgr.fit(X_train,y_train)\n",
    "pred_lgr=model_lgr.predict(X_test)\n",
    "acc_lgr=accuracy_score(y_test,pred_lgr)\n",
    "print('LogisticRegression:',acc_lgr)"
   ]
  },
  {
   "cell_type": "markdown",
   "id": "c01ce70f-fc50-48a8-863b-a583c1a057bc",
   "metadata": {},
   "source": [
    "KNeighborsClassifier"
   ]
  },
  {
   "cell_type": "code",
   "execution_count": 553,
   "id": "e25aae9d-b984-4d69-a768-e94176d4ead4",
   "metadata": {},
   "outputs": [
    {
     "name": "stdout",
     "output_type": "stream",
     "text": [
      "KNN: 0.5785123966942148\n"
     ]
    }
   ],
   "source": [
    "knn=KNeighborsClassifier()\n",
    "model_knn=knn.fit(X_train,y_train)\n",
    "pred_knn=model_knn.predict(X_test)\n",
    "acc_knn=accuracy_score(y_test,pred_knn)\n",
    "print('KNN:',acc_knn)"
   ]
  },
  {
   "cell_type": "code",
   "execution_count": 552,
   "id": "f6966641-e885-4547-88bc-11ce9e97e031",
   "metadata": {},
   "outputs": [
    {
     "name": "stdout",
     "output_type": "stream",
     "text": [
      "DecisionTreeClassifier: 0.6033057851239669\n"
     ]
    }
   ],
   "source": [
    "DTclf = DecisionTreeClassifier()\n",
    "model_DTclf = DTclf.fit(X_train,y_train)\n",
    "pred_DTclf = model_DTclf.predict(X_test)\n",
    "acc_DTclf=accuracy_score(y_test,pred_DTclf)\n",
    "print('DecisionTreeClassifier:',acc_DTclf)\n"
   ]
  },
  {
   "cell_type": "code",
   "execution_count": 550,
   "id": "93c0996d-1547-4d45-9552-ad59dee2c01c",
   "metadata": {},
   "outputs": [
    {
     "name": "stdout",
     "output_type": "stream",
     "text": [
      "GaussianNB: 0.6446280991735537\n"
     ]
    }
   ],
   "source": [
    "gnb = GaussianNB()\n",
    "model_gnb=gnb.fit(X_train, y_train)\n",
    "pred_gnb=model_gnb.predict(X_test)\n",
    "acc_gnb=accuracy_score(y_test,pred_gnb)\n",
    "print('GaussianNB:',acc_gnb)"
   ]
  },
  {
   "cell_type": "code",
   "execution_count": null,
   "id": "c9ce69a2-86ed-4722-af27-a357906f4816",
   "metadata": {},
   "outputs": [],
   "source": [
    "X_train.shape,y_train.shape,X_test.shape,y_test.shape"
   ]
  },
  {
   "cell_type": "code",
   "execution_count": 554,
   "id": "34f58586-fa71-4eb9-821e-073d0ecd4552",
   "metadata": {},
   "outputs": [
    {
     "data": {
      "text/plain": [
       "[Text(0.5, 0, 'models'), Text(0, 0.5, 'accuracy ')]"
      ]
     },
     "execution_count": 554,
     "metadata": {},
     "output_type": "execute_result"
    },
    {
     "data": {
      "image/png": "[encoded data removed]",
      "text/plain": [
       "<Figure size 1080x432 with 1 Axes>"
      ]
     },
     "metadata": {
      "needs_background": "light"
     },
     "output_type": "display_data"
    }
   ],
   "source": [
    "plt_y=[acc_knn,acc_lgr,acc_svc, acc_cnn,acc_gnb,acc_DTclf]\n",
    "plt_x=['KNN','LGR','SVC', 'CNN','GaussianNB','DecisionTreeClassifier']\n",
    "\n",
    "x_axis=range(len(plt_x))\n",
    "plt.figure(figsize=(15,6))\n",
    "ax=sns.barplot(x=plt_x,y=plt_y,alpha=0.7)\n",
    "ax.set_ylim([0,1])\n",
    "for x,y in zip(x_axis,plt_y):\n",
    "    ax.text(x,y+.05,round(y,2))\n",
    "ax.set_box_aspect(3.5/len(ax.patches))\n",
    "ax.set(xlabel='models', ylabel='accuracy ')"
   ]
  },
  {
   "cell_type": "code",
   "execution_count": null,
   "id": "c316b6bb-b0c8-4024-a90e-73dd2bfd0eba",
   "metadata": {},
   "outputs": [],
   "source": []
  },
  {
   "cell_type": "markdown",
   "id": "5c7f32b7-aab7-4b55-9368-01396501a148",
   "metadata": {},
   "source": [
    "METHOD 2"
   ]
  },
  {
   "cell_type": "markdown",
   "id": "d816b239-8cac-45cb-aae0-0681081e4cab",
   "metadata": {},
   "source": [
    " Count Vectors as features"
   ]
  },
  {
   "cell_type": "code",
   "execution_count": null,
   "id": "84a7b770-4698-4e4e-9a0f-ef43e6b8d6a8",
   "metadata": {},
   "outputs": [],
   "source": []
  },
  {
   "cell_type": "code",
   "execution_count": 555,
   "id": "665b7ac3-1587-409d-ab7c-4c17aac94da9",
   "metadata": {},
   "outputs": [],
   "source": [
    "from sklearn.feature_extraction.text import CountVectorizer  \n",
    "cv=CountVectorizer(max_features=160)             ##convert sentences into vector representation \n",
    "x2=cv.fit_transform(data['Question']).toarray()         #return array of vectors \n",
    "y2=data['Class'].astype('category').cat.codes.values            #convers classes into codes "
   ]
  },
  {
   "cell_type": "code",
   "execution_count": null,
   "id": "c8289b8b-07f1-4385-a010-b975739bc9d2",
   "metadata": {},
   "outputs": [],
   "source": [
    "x"
   ]
  },
  {
   "cell_type": "code",
   "execution_count": 556,
   "id": "2d301d2b-08f9-47b9-b9f8-de5b59665c41",
   "metadata": {},
   "outputs": [
    {
     "data": {
      "text/plain": [
       "((602, 160), (602,))"
      ]
     },
     "execution_count": 556,
     "metadata": {},
     "output_type": "execute_result"
    }
   ],
   "source": [
    "x2.shape,y2.shape"
   ]
  },
  {
   "cell_type": "code",
   "execution_count": 557,
   "id": "d3157e92-cb03-4bb6-a25d-be56fc415623",
   "metadata": {},
   "outputs": [],
   "source": [
    "\n",
    "X_train2 ,X_test2,y_train2,y_test2=train_test_split(x2,y2,test_size=0.2,random_state=2)       "
   ]
  },
  {
   "cell_type": "markdown",
   "id": "cf7fd44d-ad4b-4760-81e8-3138876aca05",
   "metadata": {},
   "source": [
    "SUPPOR VECTOR CLASSIFIER"
   ]
  },
  {
   "cell_type": "code",
   "execution_count": 558,
   "id": "4f4030cc-70c1-481a-8094-623a237e5f29",
   "metadata": {},
   "outputs": [
    {
     "data": {
      "text/plain": [
       "0.768595041322314"
      ]
     },
     "execution_count": 558,
     "metadata": {},
     "output_type": "execute_result"
    }
   ],
   "source": [
    "svc=SVC()\n",
    "model_svc2=svc.fit(X_train2,y_train2)\n",
    "pred_svc2=model_svc2.predict(X_test2)\n",
    "acc_svc2=accuracy_score(y_test2,pred_svc2)\n",
    "acc_svc2"
   ]
  },
  {
   "cell_type": "markdown",
   "id": "88fe2e25-4725-4052-93f3-31cb77cd1d2b",
   "metadata": {},
   "source": [
    "RandomForestClassifier"
   ]
  },
  {
   "cell_type": "code",
   "execution_count": 559,
   "id": "2e6201c8-f128-457a-bb6b-9d9740daaa2f",
   "metadata": {},
   "outputs": [
    {
     "data": {
      "text/plain": [
       "0.8181818181818182"
      ]
     },
     "execution_count": 559,
     "metadata": {},
     "output_type": "execute_result"
    }
   ],
   "source": [
    "\n",
    "rfc2=RandomForestClassifier()\n",
    "model_rfc2=rfc2.fit(X_train2,y_train2)\n",
    "pred_rfc2=model_rfc2.predict(X_test2)\n",
    "acc_rfc2=accuracy_score(y_test2,pred_rfc2)\n",
    "acc_rfc2"
   ]
  },
  {
   "cell_type": "markdown",
   "id": "3a67c9aa-dcdb-4067-bef5-1436a3e56bc7",
   "metadata": {},
   "source": [
    "KNeighborsClassifier"
   ]
  },
  {
   "cell_type": "code",
   "execution_count": 560,
   "id": "2189f91b-f653-4735-97e2-f91d3791c009",
   "metadata": {},
   "outputs": [
    {
     "data": {
      "text/plain": [
       "0.71900826446281"
      ]
     },
     "execution_count": 560,
     "metadata": {},
     "output_type": "execute_result"
    }
   ],
   "source": [
    "from sklearn.neighbors import KNeighborsClassifier\n",
    "knn2=KNeighborsClassifier()\n",
    "model_knn2=knn2.fit(X_train2,y_train2)\n",
    "pred_knn2=model_knn2.predict(X_test2)\n",
    "acc_knn2=accuracy_score(y_test2,pred_knn2)\n",
    "acc_knn2"
   ]
  },
  {
   "cell_type": "code",
   "execution_count": 561,
   "id": "d9d3feda-67f6-466e-9203-3dccd9f7fedf",
   "metadata": {},
   "outputs": [
    {
     "data": {
      "text/plain": [
       "0.8264462809917356"
      ]
     },
     "execution_count": 561,
     "metadata": {},
     "output_type": "execute_result"
    }
   ],
   "source": [
    "from sklearn.linear_model import LogisticRegression \n",
    "Lgr2=LogisticRegression()\n",
    "model_lgr2=Lgr2.fit(X_train2,y_train2)\n",
    "pred_lgr2=model_lgr2.predict(X_test2)\n",
    "acc_lgr2=accuracy_score(y_test2,pred_lgr2)\n",
    "acc_lgr2\n"
   ]
  },
  {
   "cell_type": "code",
   "execution_count": 562,
   "id": "401223e8-d059-47d4-93b8-fe6d74172a91",
   "metadata": {},
   "outputs": [],
   "source": [
    "from  tensorflow.keras import layers,Sequential\n",
    "from tensorflow import keras\n",
    "model_cnn2=Sequential()\n",
    "model_cnn2.add(Dense(128,activation='relu'))\n",
    "model_cnn2.add(Dense(32,activation='relu'))\n",
    "model_cnn2.add(Dense(1,activation='sigmoid'))\n",
    "model_cnn2.compile(optimizer ='adam',loss ='binary_crossentropy',metrics =['accuracy'])"
   ]
  },
  {
   "cell_type": "code",
   "execution_count": 563,
   "id": "fdb4f199-addb-4640-8b4c-9462d108ccb8",
   "metadata": {},
   "outputs": [
    {
     "name": "stdout",
     "output_type": "stream",
     "text": [
      "Train on 481 samples\n",
      "Epoch 1/20\n",
      "481/481 [==============================] - 1s 1ms/sample - loss: 0.6333 - accuracy: 0.6466\n",
      "Epoch 2/20\n",
      "481/481 [==============================] - 0s 104us/sample - loss: 0.5408 - accuracy: 0.8025\n",
      "Epoch 3/20\n",
      "481/481 [==============================] - 0s 83us/sample - loss: 0.4652 - accuracy: 0.8274\n",
      "Epoch 4/20\n",
      "481/481 [==============================] - 0s 106us/sample - loss: 0.4030 - accuracy: 0.8482\n",
      "Epoch 5/20\n",
      "481/481 [==============================] - 0s 100us/sample - loss: 0.3468 - accuracy: 0.8753\n",
      "Epoch 6/20\n",
      "481/481 [==============================] - 0s 94us/sample - loss: 0.3035 - accuracy: 0.8815\n",
      "Epoch 7/20\n",
      "481/481 [==============================] - 0s 114us/sample - loss: 0.2653 - accuracy: 0.8898\n",
      "Epoch 8/20\n",
      "481/481 [==============================] - 0s 92us/sample - loss: 0.2440 - accuracy: 0.9106\n",
      "Epoch 9/20\n",
      "481/481 [==============================] - 0s 112us/sample - loss: 0.2218 - accuracy: 0.9002\n",
      "Epoch 10/20\n",
      "481/481 [==============================] - 0s 102us/sample - loss: 0.1992 - accuracy: 0.9231\n",
      "Epoch 11/20\n",
      "481/481 [==============================] - 0s 129us/sample - loss: 0.1779 - accuracy: 0.9293\n",
      "Epoch 12/20\n",
      "481/481 [==============================] - 0s 96us/sample - loss: 0.1646 - accuracy: 0.9272\n",
      "Epoch 13/20\n",
      "481/481 [==============================] - 0s 133us/sample - loss: 0.1577 - accuracy: 0.9418\n",
      "Epoch 14/20\n",
      "481/481 [==============================] - 0s 127us/sample - loss: 0.1471 - accuracy: 0.9335\n",
      "Epoch 15/20\n",
      "481/481 [==============================] - 0s 98us/sample - loss: 0.1330 - accuracy: 0.9459\n",
      "Epoch 16/20\n",
      "481/481 [==============================] - 0s 108us/sample - loss: 0.1264 - accuracy: 0.9563\n",
      "Epoch 17/20\n",
      "481/481 [==============================] - 0s 112us/sample - loss: 0.1243 - accuracy: 0.9459\n",
      "Epoch 18/20\n",
      "481/481 [==============================] - 0s 121us/sample - loss: 0.1126 - accuracy: 0.9605\n",
      "Epoch 19/20\n",
      "481/481 [==============================] - 0s 92us/sample - loss: 0.1081 - accuracy: 0.9439\n",
      "Epoch 20/20\n",
      "481/481 [==============================] - 0s 150us/sample - loss: 0.1004 - accuracy: 0.9626\n"
     ]
    },
    {
     "data": {
      "text/plain": [
       "(0.404276921729411, 0.8512397)"
      ]
     },
     "execution_count": 563,
     "metadata": {},
     "output_type": "execute_result"
    }
   ],
   "source": [
    "model_cnn2.fit ( X_train2 , y_train2 , epochs =20)\n",
    "\n",
    "loss2,acc_cnn2 = model_cnn2.evaluate(X_test2, y_test2, verbose=0)\n",
    "\n",
    "loss2,acc_cnn2"
   ]
  },
  {
   "cell_type": "code",
   "execution_count": 564,
   "id": "9614557f-5364-4ac8-885b-4926d9706c42",
   "metadata": {},
   "outputs": [
    {
     "name": "stdout",
     "output_type": "stream",
     "text": [
      "gnb2: 0.6694214876033058\n"
     ]
    }
   ],
   "source": [
    "gnb2 = GaussianNB()\n",
    "model_gnb2=gnb2.fit(X_train2, y_train2)\n",
    "pred_gnb2=model_gnb2.predict(X_test2)\n",
    "acc_gnb2=accuracy_score(y_test2,pred_gnb2)\n",
    "print('gnb2:',acc_gnb2)"
   ]
  },
  {
   "cell_type": "code",
   "execution_count": 565,
   "id": "d5ec4c42-e7f8-4341-b293-d080c698f9eb",
   "metadata": {},
   "outputs": [
    {
     "name": "stdout",
     "output_type": "stream",
     "text": [
      "DTclf2: 0.7603305785123967\n"
     ]
    }
   ],
   "source": [
    "DTclf2 = DecisionTreeClassifier()\n",
    "model_DTclf2 = DTclf2.fit(X_train2,y_train2)\n",
    "pred_DTclf2 = model_DTclf2.predict(X_test2)\n",
    "acc_DTclf2=accuracy_score(y_test2,pred_DTclf2)\n",
    "print('DTclf2:',acc_DTclf2)\n"
   ]
  },
  {
   "cell_type": "code",
   "execution_count": 566,
   "id": "0109510f-89f7-449f-94be-cdcf9df9055b",
   "metadata": {},
   "outputs": [
    {
     "data": {
      "text/plain": [
       "[Text(0.5, 0, 'models'), Text(0, 0.5, 'accuracy ')]"
      ]
     },
     "execution_count": 566,
     "metadata": {},
     "output_type": "execute_result"
    },
    {
     "data": {
      "image/png": "[encoded data removed]",
      "text/plain": [
       "<Figure size 1080x432 with 1 Axes>"
      ]
     },
     "metadata": {
      "needs_background": "light"
     },
     "output_type": "display_data"
    }
   ],
   "source": [
    "plt_y2=[acc_knn2,acc_lgr2,acc_svc2, acc_cnn2,acc_gnb2,acc_DTclf2]\n",
    "plt_x2=['KNN','LGR','SVC', 'CNN','GaussianNB','DecisionTreeClassifier']\n",
    "x_axis2=range(len(plt_x2))\n",
    "plt.figure(figsize=(15,6))\n",
    "ax2=sns.barplot(x=plt_x2,y=plt_y2,alpha=0.7)\n",
    "ax2.set_ylim([0,1])\n",
    "for x,y in zip(x_axis2,plt_y2):\n",
    "    ax.text(x,y+.05,round(y,2))\n",
    "ax2.set_box_aspect(3.5/len(ax.patches))\n",
    "ax2.set(xlabel='models', ylabel='accuracy ')"
   ]
  },
  {
   "cell_type": "markdown",
   "id": "25a26426-3cf9-4bd6-ae08-e7228914403f",
   "metadata": {},
   "source": [
    "Comparing Model 1 and model 2"
   ]
  },
  {
   "cell_type": "code",
   "execution_count": 567,
   "id": "fb864721-1488-4711-b2d6-b86c2c91c153",
   "metadata": {},
   "outputs": [],
   "source": [
    "model_acc=pd.DataFrame({'Model1':plt_y,'Model2':plt_y2},index=plt_x)"
   ]
  },
  {
   "cell_type": "code",
   "execution_count": 568,
   "id": "d180b57b-1151-4369-ade0-252a40a20f61",
   "metadata": {},
   "outputs": [
    {
     "data": {
      "text/html": [
       "<div>\n",
       "<style scoped>\n",
       "    .dataframe tbody tr th:only-of-type {\n",
       "        vertical-align: middle;\n",
       "    }\n",
       "\n",
       "    .dataframe tbody tr th {\n",
       "        vertical-align: top;\n",
       "    }\n",
       "\n",
       "    .dataframe thead th {\n",
       "        text-align: right;\n",
       "    }\n",
       "</style>\n",
       "<table border=\"1\" class=\"dataframe\">\n",
       "  <thead>\n",
       "    <tr style=\"text-align: right;\">\n",
       "      <th></th>\n",
       "      <th>Model1</th>\n",
       "      <th>Model2</th>\n",
       "    </tr>\n",
       "  </thead>\n",
       "  <tbody>\n",
       "    <tr>\n",
       "      <th>KNN</th>\n",
       "      <td>0.578512</td>\n",
       "      <td>0.719008</td>\n",
       "    </tr>\n",
       "    <tr>\n",
       "      <th>LGR</th>\n",
       "      <td>0.520661</td>\n",
       "      <td>0.826446</td>\n",
       "    </tr>\n",
       "    <tr>\n",
       "      <th>SVC</th>\n",
       "      <td>0.636364</td>\n",
       "      <td>0.768595</td>\n",
       "    </tr>\n",
       "    <tr>\n",
       "      <th>CNN</th>\n",
       "      <td>0.801653</td>\n",
       "      <td>0.851240</td>\n",
       "    </tr>\n",
       "    <tr>\n",
       "      <th>GaussianNB</th>\n",
       "      <td>0.644628</td>\n",
       "      <td>0.669421</td>\n",
       "    </tr>\n",
       "    <tr>\n",
       "      <th>DecisionTreeClassifier</th>\n",
       "      <td>0.603306</td>\n",
       "      <td>0.760331</td>\n",
       "    </tr>\n",
       "  </tbody>\n",
       "</table>\n",
       "</div>"
      ],
      "text/plain": [
       "                          Model1    Model2\n",
       "KNN                     0.578512  0.719008\n",
       "LGR                     0.520661  0.826446\n",
       "SVC                     0.636364  0.768595\n",
       "CNN                     0.801653  0.851240\n",
       "GaussianNB              0.644628  0.669421\n",
       "DecisionTreeClassifier  0.603306  0.760331"
      ]
     },
     "execution_count": 568,
     "metadata": {},
     "output_type": "execute_result"
    }
   ],
   "source": [
    "model_acc"
   ]
  },
  {
   "cell_type": "code",
   "execution_count": 569,
   "id": "f69883e3-9530-4169-897a-e1513930d2c6",
   "metadata": {},
   "outputs": [
    {
     "data": {
      "image/png": "[encoded data removed]",
      "text/plain": [
       "<Figure size 720x432 with 1 Axes>"
      ]
     },
     "metadata": {
      "needs_background": "light"
     },
     "output_type": "display_data"
    }
   ],
   "source": [
    "plt.figure(figsize=(10,6))\n",
    "x_axis=np.arange(len(model_acc.index))+.35\n",
    "plt.bar(x_axis,model_acc.Model1,width=0.35,color='olive')\n",
    "plt.bar(x_axis+.35,model_acc.Model2,width=0.35,color='darkorange')\n",
    "plt.xticks(x_axis,plt_x)\n",
    "\n",
    "plt.legend(['Model1','Model2'])\n",
    "plt.show()"
   ]
  },
  {
   "cell_type": "markdown",
   "id": "d93bb23b-418e-4bf0-b17d-6166df9cfe29",
   "metadata": {},
   "source": [
    "Model Accuracy "
   ]
  },
  {
   "cell_type": "markdown",
   "id": "54645c15-7c52-4078-bc2c-3bc859c78cdf",
   "metadata": {},
   "source": [
    "model 2 doing comparatively  better "
   ]
  },
  {
   "cell_type": "code",
   "execution_count": 320,
   "id": "7ed55fc5-6064-403f-899f-20633ae3338d",
   "metadata": {},
   "outputs": [],
   "source": []
  },
  {
   "cell_type": "code",
   "execution_count": 320,
   "id": "ec6276cd-6bdd-4bd6-890f-c86212342cae",
   "metadata": {},
   "outputs": [],
   "source": []
  },
  {
   "cell_type": "code",
   "execution_count": 320,
   "id": "c3e9c0b5-dcf9-4eab-a932-eb63e2ed2f76",
   "metadata": {},
   "outputs": [],
   "source": []
  },
  {
   "cell_type": "code",
   "execution_count": 320,
   "id": "fbb8737b-e486-430b-a9be-f8b18406b4df",
   "metadata": {},
   "outputs": [],
   "source": []
  },
  {
   "cell_type": "code",
   "execution_count": 320,
   "id": "ad9a86f4-c7a2-44a2-baff-66877e053b94",
   "metadata": {},
   "outputs": [],
   "source": []
  },
  {
   "cell_type": "code",
   "execution_count": null,
   "id": "0233da44-956c-4cde-89c6-7dc6a7d6cf16",
   "metadata": {},
   "outputs": [],
   "source": []
  },
  {
   "cell_type": "markdown",
   "id": "0f962e59-bc54-46cc-927a-b61154141dd4",
   "metadata": {},
   "source": [
    "APPLYING models on another data"
   ]
  },
  {
   "cell_type": "code",
   "execution_count": 515,
   "id": "d590023d-dc34-4e38-bd4e-0a16a9382c4e",
   "metadata": {},
   "outputs": [],
   "source": [
    "t=open(r'E:\\Downloads\\questions.txt')"
   ]
  },
  {
   "cell_type": "code",
   "execution_count": 516,
   "id": "889ca1d5-f6d9-4a1c-af98-dfda0c0d878d",
   "metadata": {},
   "outputs": [],
   "source": [
    "lines=t.readlines()"
   ]
  },
  {
   "cell_type": "code",
   "execution_count": 517,
   "id": "e2bd1888-3b70-4301-a2d0-f168dcfd072e",
   "metadata": {},
   "outputs": [],
   "source": [
    "features=[]\n",
    "labels=[]\n",
    "for x in lines:\n",
    "    features.append(x.split(':')[1][:-3])\n",
    "    labels.append(x.split(':')[0])"
   ]
  },
  {
   "cell_type": "code",
   "execution_count": 518,
   "id": "3eb5cb19-03b5-4fde-a043-90adcb7e16b8",
   "metadata": {},
   "outputs": [],
   "source": [
    "X=cv.fit_transform((features)).toarray()       #converting sentences into vectors "
   ]
  },
  {
   "cell_type": "code",
   "execution_count": 519,
   "id": "568f4df2-ec06-495a-ad6d-733bf849c9f0",
   "metadata": {},
   "outputs": [
    {
     "data": {
      "text/html": [
       "<div>\n",
       "<style scoped>\n",
       "    .dataframe tbody tr th:only-of-type {\n",
       "        vertical-align: middle;\n",
       "    }\n",
       "\n",
       "    .dataframe tbody tr th {\n",
       "        vertical-align: top;\n",
       "    }\n",
       "\n",
       "    .dataframe thead th {\n",
       "        text-align: right;\n",
       "    }\n",
       "</style>\n",
       "<table border=\"1\" class=\"dataframe\">\n",
       "  <thead>\n",
       "    <tr style=\"text-align: right;\">\n",
       "      <th></th>\n",
       "      <th>0</th>\n",
       "      <th>1</th>\n",
       "      <th>2</th>\n",
       "      <th>3</th>\n",
       "      <th>4</th>\n",
       "      <th>5</th>\n",
       "      <th>6</th>\n",
       "      <th>7</th>\n",
       "      <th>8</th>\n",
       "      <th>9</th>\n",
       "      <th>...</th>\n",
       "      <th>150</th>\n",
       "      <th>151</th>\n",
       "      <th>152</th>\n",
       "      <th>153</th>\n",
       "      <th>154</th>\n",
       "      <th>155</th>\n",
       "      <th>156</th>\n",
       "      <th>157</th>\n",
       "      <th>158</th>\n",
       "      <th>159</th>\n",
       "    </tr>\n",
       "  </thead>\n",
       "  <tbody>\n",
       "    <tr>\n",
       "      <th>0</th>\n",
       "      <td>0</td>\n",
       "      <td>0</td>\n",
       "      <td>0</td>\n",
       "      <td>0</td>\n",
       "      <td>0</td>\n",
       "      <td>0</td>\n",
       "      <td>1</td>\n",
       "      <td>0</td>\n",
       "      <td>0</td>\n",
       "      <td>0</td>\n",
       "      <td>...</td>\n",
       "      <td>0</td>\n",
       "      <td>0</td>\n",
       "      <td>0</td>\n",
       "      <td>0</td>\n",
       "      <td>0</td>\n",
       "      <td>0</td>\n",
       "      <td>0</td>\n",
       "      <td>0</td>\n",
       "      <td>0</td>\n",
       "      <td>0</td>\n",
       "    </tr>\n",
       "    <tr>\n",
       "      <th>1</th>\n",
       "      <td>0</td>\n",
       "      <td>0</td>\n",
       "      <td>0</td>\n",
       "      <td>0</td>\n",
       "      <td>0</td>\n",
       "      <td>0</td>\n",
       "      <td>0</td>\n",
       "      <td>0</td>\n",
       "      <td>0</td>\n",
       "      <td>0</td>\n",
       "      <td>...</td>\n",
       "      <td>0</td>\n",
       "      <td>0</td>\n",
       "      <td>0</td>\n",
       "      <td>0</td>\n",
       "      <td>0</td>\n",
       "      <td>0</td>\n",
       "      <td>0</td>\n",
       "      <td>0</td>\n",
       "      <td>0</td>\n",
       "      <td>0</td>\n",
       "    </tr>\n",
       "    <tr>\n",
       "      <th>2</th>\n",
       "      <td>0</td>\n",
       "      <td>0</td>\n",
       "      <td>0</td>\n",
       "      <td>0</td>\n",
       "      <td>0</td>\n",
       "      <td>0</td>\n",
       "      <td>0</td>\n",
       "      <td>0</td>\n",
       "      <td>0</td>\n",
       "      <td>0</td>\n",
       "      <td>...</td>\n",
       "      <td>0</td>\n",
       "      <td>0</td>\n",
       "      <td>0</td>\n",
       "      <td>0</td>\n",
       "      <td>0</td>\n",
       "      <td>0</td>\n",
       "      <td>0</td>\n",
       "      <td>0</td>\n",
       "      <td>0</td>\n",
       "      <td>0</td>\n",
       "    </tr>\n",
       "    <tr>\n",
       "      <th>3</th>\n",
       "      <td>0</td>\n",
       "      <td>1</td>\n",
       "      <td>0</td>\n",
       "      <td>0</td>\n",
       "      <td>0</td>\n",
       "      <td>0</td>\n",
       "      <td>0</td>\n",
       "      <td>1</td>\n",
       "      <td>0</td>\n",
       "      <td>0</td>\n",
       "      <td>...</td>\n",
       "      <td>0</td>\n",
       "      <td>0</td>\n",
       "      <td>0</td>\n",
       "      <td>0</td>\n",
       "      <td>0</td>\n",
       "      <td>0</td>\n",
       "      <td>0</td>\n",
       "      <td>1</td>\n",
       "      <td>0</td>\n",
       "      <td>0</td>\n",
       "    </tr>\n",
       "    <tr>\n",
       "      <th>4</th>\n",
       "      <td>0</td>\n",
       "      <td>0</td>\n",
       "      <td>0</td>\n",
       "      <td>0</td>\n",
       "      <td>0</td>\n",
       "      <td>0</td>\n",
       "      <td>0</td>\n",
       "      <td>0</td>\n",
       "      <td>0</td>\n",
       "      <td>0</td>\n",
       "      <td>...</td>\n",
       "      <td>0</td>\n",
       "      <td>0</td>\n",
       "      <td>0</td>\n",
       "      <td>0</td>\n",
       "      <td>0</td>\n",
       "      <td>0</td>\n",
       "      <td>0</td>\n",
       "      <td>0</td>\n",
       "      <td>0</td>\n",
       "      <td>0</td>\n",
       "    </tr>\n",
       "    <tr>\n",
       "      <th>...</th>\n",
       "      <td>...</td>\n",
       "      <td>...</td>\n",
       "      <td>...</td>\n",
       "      <td>...</td>\n",
       "      <td>...</td>\n",
       "      <td>...</td>\n",
       "      <td>...</td>\n",
       "      <td>...</td>\n",
       "      <td>...</td>\n",
       "      <td>...</td>\n",
       "      <td>...</td>\n",
       "      <td>...</td>\n",
       "      <td>...</td>\n",
       "      <td>...</td>\n",
       "      <td>...</td>\n",
       "      <td>...</td>\n",
       "      <td>...</td>\n",
       "      <td>...</td>\n",
       "      <td>...</td>\n",
       "      <td>...</td>\n",
       "      <td>...</td>\n",
       "    </tr>\n",
       "    <tr>\n",
       "      <th>5447</th>\n",
       "      <td>0</td>\n",
       "      <td>0</td>\n",
       "      <td>0</td>\n",
       "      <td>0</td>\n",
       "      <td>0</td>\n",
       "      <td>0</td>\n",
       "      <td>0</td>\n",
       "      <td>0</td>\n",
       "      <td>0</td>\n",
       "      <td>0</td>\n",
       "      <td>...</td>\n",
       "      <td>0</td>\n",
       "      <td>0</td>\n",
       "      <td>0</td>\n",
       "      <td>0</td>\n",
       "      <td>0</td>\n",
       "      <td>0</td>\n",
       "      <td>0</td>\n",
       "      <td>0</td>\n",
       "      <td>0</td>\n",
       "      <td>0</td>\n",
       "    </tr>\n",
       "    <tr>\n",
       "      <th>5448</th>\n",
       "      <td>0</td>\n",
       "      <td>0</td>\n",
       "      <td>0</td>\n",
       "      <td>0</td>\n",
       "      <td>0</td>\n",
       "      <td>0</td>\n",
       "      <td>0</td>\n",
       "      <td>0</td>\n",
       "      <td>0</td>\n",
       "      <td>0</td>\n",
       "      <td>...</td>\n",
       "      <td>0</td>\n",
       "      <td>0</td>\n",
       "      <td>0</td>\n",
       "      <td>0</td>\n",
       "      <td>0</td>\n",
       "      <td>0</td>\n",
       "      <td>0</td>\n",
       "      <td>0</td>\n",
       "      <td>0</td>\n",
       "      <td>0</td>\n",
       "    </tr>\n",
       "    <tr>\n",
       "      <th>5449</th>\n",
       "      <td>0</td>\n",
       "      <td>0</td>\n",
       "      <td>0</td>\n",
       "      <td>0</td>\n",
       "      <td>0</td>\n",
       "      <td>0</td>\n",
       "      <td>0</td>\n",
       "      <td>0</td>\n",
       "      <td>0</td>\n",
       "      <td>0</td>\n",
       "      <td>...</td>\n",
       "      <td>0</td>\n",
       "      <td>0</td>\n",
       "      <td>0</td>\n",
       "      <td>0</td>\n",
       "      <td>0</td>\n",
       "      <td>0</td>\n",
       "      <td>0</td>\n",
       "      <td>0</td>\n",
       "      <td>0</td>\n",
       "      <td>0</td>\n",
       "    </tr>\n",
       "    <tr>\n",
       "      <th>5450</th>\n",
       "      <td>0</td>\n",
       "      <td>0</td>\n",
       "      <td>0</td>\n",
       "      <td>0</td>\n",
       "      <td>0</td>\n",
       "      <td>0</td>\n",
       "      <td>0</td>\n",
       "      <td>0</td>\n",
       "      <td>0</td>\n",
       "      <td>0</td>\n",
       "      <td>...</td>\n",
       "      <td>0</td>\n",
       "      <td>0</td>\n",
       "      <td>0</td>\n",
       "      <td>0</td>\n",
       "      <td>0</td>\n",
       "      <td>0</td>\n",
       "      <td>0</td>\n",
       "      <td>0</td>\n",
       "      <td>0</td>\n",
       "      <td>0</td>\n",
       "    </tr>\n",
       "    <tr>\n",
       "      <th>5451</th>\n",
       "      <td>0</td>\n",
       "      <td>0</td>\n",
       "      <td>0</td>\n",
       "      <td>0</td>\n",
       "      <td>0</td>\n",
       "      <td>0</td>\n",
       "      <td>0</td>\n",
       "      <td>0</td>\n",
       "      <td>0</td>\n",
       "      <td>0</td>\n",
       "      <td>...</td>\n",
       "      <td>0</td>\n",
       "      <td>0</td>\n",
       "      <td>0</td>\n",
       "      <td>0</td>\n",
       "      <td>0</td>\n",
       "      <td>0</td>\n",
       "      <td>0</td>\n",
       "      <td>0</td>\n",
       "      <td>0</td>\n",
       "      <td>0</td>\n",
       "    </tr>\n",
       "  </tbody>\n",
       "</table>\n",
       "<p>5452 rows × 160 columns</p>\n",
       "</div>"
      ],
      "text/plain": [
       "      0    1    2    3    4    5    6    7    8    9    ...  150  151  152  \\\n",
       "0       0    0    0    0    0    0    1    0    0    0  ...    0    0    0   \n",
       "1       0    0    0    0    0    0    0    0    0    0  ...    0    0    0   \n",
       "2       0    0    0    0    0    0    0    0    0    0  ...    0    0    0   \n",
       "3       0    1    0    0    0    0    0    1    0    0  ...    0    0    0   \n",
       "4       0    0    0    0    0    0    0    0    0    0  ...    0    0    0   \n",
       "...   ...  ...  ...  ...  ...  ...  ...  ...  ...  ...  ...  ...  ...  ...   \n",
       "5447    0    0    0    0    0    0    0    0    0    0  ...    0    0    0   \n",
       "5448    0    0    0    0    0    0    0    0    0    0  ...    0    0    0   \n",
       "5449    0    0    0    0    0    0    0    0    0    0  ...    0    0    0   \n",
       "5450    0    0    0    0    0    0    0    0    0    0  ...    0    0    0   \n",
       "5451    0    0    0    0    0    0    0    0    0    0  ...    0    0    0   \n",
       "\n",
       "      153  154  155  156  157  158  159  \n",
       "0       0    0    0    0    0    0    0  \n",
       "1       0    0    0    0    0    0    0  \n",
       "2       0    0    0    0    0    0    0  \n",
       "3       0    0    0    0    1    0    0  \n",
       "4       0    0    0    0    0    0    0  \n",
       "...   ...  ...  ...  ...  ...  ...  ...  \n",
       "5447    0    0    0    0    0    0    0  \n",
       "5448    0    0    0    0    0    0    0  \n",
       "5449    0    0    0    0    0    0    0  \n",
       "5450    0    0    0    0    0    0    0  \n",
       "5451    0    0    0    0    0    0    0  \n",
       "\n",
       "[5452 rows x 160 columns]"
      ]
     },
     "execution_count": 519,
     "metadata": {},
     "output_type": "execute_result"
    }
   ],
   "source": [
    "df=pd.DataFrame(np.array(X))\n",
    "df"
   ]
  },
  {
   "cell_type": "code",
   "execution_count": 520,
   "id": "a0f9f207-b2ce-49e4-9f5e-90eeea0dda10",
   "metadata": {},
   "outputs": [],
   "source": [
    "df['class']=labels"
   ]
  },
  {
   "cell_type": "code",
   "execution_count": 521,
   "id": "ecde9a26-bbbf-4f29-8371-bcfd5055db8d",
   "metadata": {},
   "outputs": [],
   "source": [
    "df['class']=df['class'].astype('category').cat.codes"
   ]
  },
  {
   "cell_type": "code",
   "execution_count": 522,
   "id": "9310c1c5-e421-4b82-a471-9bc6fd2c441d",
   "metadata": {},
   "outputs": [],
   "source": [
    "x=df.iloc[:,:-1]"
   ]
  },
  {
   "cell_type": "code",
   "execution_count": 523,
   "id": "88c9fc89-cf4b-4960-b9d1-dca493690071",
   "metadata": {},
   "outputs": [
    {
     "data": {
      "text/plain": [
       "array([1, 2, 1, ..., 5, 5, 2], dtype=int8)"
      ]
     },
     "execution_count": 523,
     "metadata": {},
     "output_type": "execute_result"
    }
   ],
   "source": [
    "y=df['class'].values\n",
    "y"
   ]
  },
  {
   "cell_type": "code",
   "execution_count": 524,
   "id": "a3a1980a-2c7a-4089-ad41-327236bd0b7c",
   "metadata": {},
   "outputs": [],
   "source": [
    "from sklearn.preprocessing import StandardScaler\n",
    "scaler=StandardScaler()\n",
    "x = scaler.fit_transform(x)                   "
   ]
  },
  {
   "cell_type": "code",
   "execution_count": 525,
   "id": "35d05fba-2e17-4699-b9d4-739de6912c12",
   "metadata": {},
   "outputs": [],
   "source": [
    "from sklearn.model_selection import train_test_split\n",
    "from sklearn.metrics import accuracy_score\n",
    "X_train ,X_test,y_train,y_test=train_test_split(x,y,test_size=0.2)"
   ]
  },
  {
   "cell_type": "code",
   "execution_count": 526,
   "id": "0ab94cba-08b2-459a-b320-8f042cf8f9a3",
   "metadata": {},
   "outputs": [
    {
     "name": "stderr",
     "output_type": "stream",
     "text": [
      "e:\\pythonproject\\venv\\lib\\site-packages\\sklearn\\linear_model\\_logistic.py:765: ConvergenceWarning: lbfgs failed to converge (status=1):\n",
      "STOP: TOTAL NO. of ITERATIONS REACHED LIMIT.\n",
      "\n",
      "Increase the number of iterations (max_iter) or scale the data as shown in:\n",
      "    https://scikit-learn.org/stable/modules/preprocessing.html\n",
      "Please also refer to the documentation for alternative solver options:\n",
      "    https://scikit-learn.org/stable/modules/linear_model.html#logistic-regression\n",
      "  extra_warning_msg=_LOGISTIC_SOLVER_CONVERGENCE_MSG)\n",
      "\n"
     ]
    },
    {
     "data": {
      "text/plain": [
       "0.9376718606782768"
      ]
     },
     "execution_count": 526,
     "metadata": {},
     "output_type": "execute_result"
    }
   ],
   "source": [
    "from sklearn.linear_model import LogisticRegression \n",
    "Lgr=LogisticRegression()\n",
    "model=Lgr.fit(X_train,y_train)\n",
    "pred=model.predict(X_test)\n",
    "acc=accuracy_score(y_test,pred)\n",
    "acc\n"
   ]
  },
  {
   "cell_type": "code",
   "execution_count": null,
   "id": "30d7a4cd-014d-4efd-a718-adfde02d3a57",
   "metadata": {},
   "outputs": [],
   "source": []
  },
  {
   "cell_type": "code",
   "execution_count": 527,
   "id": "61b5b640-4e15-438f-a7a3-915e5829df07",
   "metadata": {},
   "outputs": [
    {
     "data": {
      "text/plain": [
       "0.7983501374885427"
      ]
     },
     "execution_count": 527,
     "metadata": {},
     "output_type": "execute_result"
    }
   ],
   "source": [
    "from sklearn.neighbors import KNeighborsClassifier\n",
    "knn=KNeighborsClassifier()\n",
    "model=knn.fit(X_train,y_train)\n",
    "pred=model.predict(X_test)\n",
    "acc=accuracy_score(y_test,pred)\n",
    "acc\n"
   ]
  },
  {
   "cell_type": "code",
   "execution_count": 528,
   "id": "1e6dfe44-a9a9-4bdb-857d-c339d1d87851",
   "metadata": {},
   "outputs": [
    {
     "data": {
      "text/plain": [
       "0.921173235563703"
      ]
     },
     "execution_count": 528,
     "metadata": {},
     "output_type": "execute_result"
    }
   ],
   "source": [
    "from sklearn import svm\n",
    "from sklearn.svm import SVC\n",
    "svc=SVC()\n",
    "model=svc.fit(X_train,y_train)\n",
    "pred=model.predict(X_test)\n",
    "acc=accuracy_score(y_test,pred)\n",
    "acc"
   ]
  },
  {
   "cell_type": "code",
   "execution_count": null,
   "id": "e1888807-baa1-4248-99a9-71769249ca7a",
   "metadata": {},
   "outputs": [],
   "source": []
  },
  {
   "cell_type": "code",
   "execution_count": null,
   "id": "1c5de96f-c2b8-4e72-bc59-04a1890b5e75",
   "metadata": {},
   "outputs": [],
   "source": []
  },
  {
   "cell_type": "code",
   "execution_count": null,
   "id": "92b6852c-f960-43f8-ae3f-2735c43993ca",
   "metadata": {},
   "outputs": [],
   "source": []
  },
  {
   "cell_type": "code",
   "execution_count": null,
   "id": "f69c25c1-bbe1-4146-94fd-1e18a3a3460f",
   "metadata": {},
   "outputs": [],
   "source": []
  },
  {
   "cell_type": "code",
   "execution_count": null,
   "id": "4169d43a-088a-4055-be36-f8750f468479",
   "metadata": {},
   "outputs": [],
   "source": []
  },
  {
   "cell_type": "code",
   "execution_count": null,
   "id": "603c745f-3ba6-4997-8b76-2a75762a260d",
   "metadata": {},
   "outputs": [],
   "source": []
  },
  {
   "cell_type": "code",
   "execution_count": null,
   "id": "7635dae7-fc94-4ec2-a423-3caa0653998c",
   "metadata": {},
   "outputs": [],
   "source": []
  }
 ],
 "metadata": {
  "kernelspec": {
   "display_name": "Python 3 (ipykernel)",
   "language": "python",
   "name": "python3"
  },
  "language_info": {
   "codemirror_mode": {
    "name": "ipython",
    "version": 3
   },
   "file_extension": ".py",
   "mimetype": "text/x-python",
   "name": "python",
   "nbconvert_exporter": "python",
   "pygments_lexer": "ipython3",
   "version": "3.7.3"
  }
 },
 "nbformat": 4,
 "nbformat_minor": 5
}
